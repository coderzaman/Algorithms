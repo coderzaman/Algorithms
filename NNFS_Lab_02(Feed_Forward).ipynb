{
  "nbformat": 4,
  "nbformat_minor": 0,
  "metadata": {
    "colab": {
      "provenance": [],
      "authorship_tag": "ABX9TyMa1RLjRPRbPLQVhHvG3Osi",
      "include_colab_link": true
    },
    "kernelspec": {
      "name": "python3",
      "display_name": "Python 3"
    },
    "language_info": {
      "name": "python"
    }
  },
  "cells": [
    {
      "cell_type": "markdown",
      "metadata": {
        "id": "view-in-github",
        "colab_type": "text"
      },
      "source": [
        "<a href=\"https://colab.research.google.com/github/coderzaman/Algorithms/blob/main/NNFS_Lab_02(Feed_Forward).ipynb\" target=\"_parent\"><img src=\"https://colab.research.google.com/assets/colab-badge.svg\" alt=\"Open In Colab\"/></a>"
      ]
    },
    {
      "cell_type": "code",
      "execution_count": 26,
      "metadata": {
        "id": "T9h2h3VUYCRY"
      },
      "outputs": [],
      "source": [
        "import tensorflow as tf"
      ]
    },
    {
      "cell_type": "code",
      "source": [
        "X = tf.Variable([[0.5,0.2]], dtype=tf.float32)"
      ],
      "metadata": {
        "id": "tVShf-QOYMkw"
      },
      "execution_count": 27,
      "outputs": []
    },
    {
      "cell_type": "code",
      "source": [
        "W1 = tf.Variable([\n",
        "      [0.1,0.2,0.3],\n",
        "      [0.4,0.5,0.6],\n",
        "    ])\n",
        "b1  = tf.Variable([[0.01,0.02,0.03]],  dtype=tf.float32)"
      ],
      "metadata": {
        "id": "l637zzSZYZZn"
      },
      "execution_count": 28,
      "outputs": []
    },
    {
      "cell_type": "code",
      "source": [
        "w2 = tf.Variable([[0.7],\n",
        "                  [0.8],\n",
        "                  [0.9]], dtype=tf.float32)\n",
        "b2 = tf.Variable([[0.05]], dtype=tf.float32)"
      ],
      "metadata": {
        "id": "eR4OGBc0YoEV"
      },
      "execution_count": 29,
      "outputs": []
    },
    {
      "cell_type": "code",
      "source": [
        "def sigmoid(X):\n",
        "  return 1/(1+tf.exp(-X))\n",
        "\n",
        "def relu(X):\n",
        "  return tf.maximum(0,X)"
      ],
      "metadata": {
        "id": "1eyqXOEqZzoi"
      },
      "execution_count": 30,
      "outputs": []
    },
    {
      "cell_type": "code",
      "source": [
        "z1 = tf.matmul(X,W1) + b1\n",
        "print(f\"Without activation Function: {z1}\\n\")\n",
        "\n",
        "print(f\"With Sigmoid Function: {sigmoid(z1)}\")\n",
        "print(f\"With relu Function: {relu(z1)}\")\n"
      ],
      "metadata": {
        "colab": {
          "base_uri": "https://localhost:8080/"
        },
        "id": "TsGEVu4-Y0HO",
        "outputId": "b964f5f5-8584-4030-b21b-80f3a9627116"
      },
      "execution_count": 33,
      "outputs": [
        {
          "output_type": "stream",
          "name": "stdout",
          "text": [
            "Without activation Function: [[0.14000002 0.22       0.3       ]]\n",
            "\n",
            "With Sigmoid Function: [[0.5349429  0.55477923 0.5744425 ]]\n",
            "With relu Function: [[0.14000002 0.22       0.3       ]]\n"
          ]
        }
      ]
    },
    {
      "cell_type": "code",
      "source": [
        "z2 = tf.matmul(z1,w2) + b2\n",
        "print(f\"Witout activation Function: {z2}\\n\")\n",
        "print(f\"With Sigmoid Function: {sigmoid(z2)}\")\n",
        "print(f\"With relu Function: {relu(z2)}\")\n"
      ],
      "metadata": {
        "colab": {
          "base_uri": "https://localhost:8080/"
        },
        "id": "VfgoP7DYZliG",
        "outputId": "1dbdd763-5735-4811-c834-ade9f1ec5b15"
      },
      "execution_count": 34,
      "outputs": [
        {
          "output_type": "stream",
          "name": "stdout",
          "text": [
            "Witout activation Function: [[0.59400004]]\n",
            "\n",
            "With Sigmoid Function: [[0.6442824]]\n",
            "With relu Function: [[0.59400004]]\n"
          ]
        }
      ]
    }
  ]
}